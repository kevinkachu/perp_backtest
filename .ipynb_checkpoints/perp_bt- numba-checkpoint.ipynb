{
 "cells": [
  {
   "cell_type": "code",
   "execution_count": 2,
   "metadata": {},
   "outputs": [],
   "source": [
    "import datetime as dt\n",
    "import numpy as np\n",
    "import pandas as pd\n",
    "import pytz\n",
    "\n",
    "from numba import jit\n",
    "from matplotlib import pyplot as plt\n",
    "%matplotlib inline"
   ]
  },
  {
   "cell_type": "code",
   "execution_count": 61,
   "metadata": {},
   "outputs": [],
   "source": [
    "df = pd.read_hdf('./data_backtest_0.hdf').sort_values(by=['close_dt_pst','tsec'])\n",
    "df['price_chg'] = df['close_next'] - df['close']\n",
    "df['price_diff'] = df['price'] - df['close']\n",
    "df['pct_diff'] = df['price_diff']/df['close']\n",
    "df['close_dt_pst'] = df['close_dt_pst'].apply(lambda x: np.datetime64(x))\n",
    "df['next_dt'] = df['next_dt'].apply(lambda x: np.datetime64(x))"
   ]
  },
  {
   "cell_type": "code",
   "execution_count": 67,
   "metadata": {},
   "outputs": [
    {
     "data": {
      "text/html": [
       "<div>\n",
       "<style scoped>\n",
       "    .dataframe tbody tr th:only-of-type {\n",
       "        vertical-align: middle;\n",
       "    }\n",
       "\n",
       "    .dataframe tbody tr th {\n",
       "        vertical-align: top;\n",
       "    }\n",
       "\n",
       "    .dataframe thead th {\n",
       "        text-align: right;\n",
       "    }\n",
       "</style>\n",
       "<table border=\"1\" class=\"dataframe\">\n",
       "  <thead>\n",
       "    <tr style=\"text-align: right;\">\n",
       "      <th></th>\n",
       "      <th>close_dt_pst</th>\n",
       "      <th>tsec</th>\n",
       "      <th>next_dt</th>\n",
       "      <th>close</th>\n",
       "      <th>price</th>\n",
       "      <th>close_next</th>\n",
       "      <th>price_chg</th>\n",
       "      <th>price_diff</th>\n",
       "      <th>pct_diff</th>\n",
       "    </tr>\n",
       "  </thead>\n",
       "  <tbody>\n",
       "    <tr>\n",
       "      <th>0</th>\n",
       "      <td>2021-03-03 19:33:00</td>\n",
       "      <td>35.0</td>\n",
       "      <td>2021-03-03 19:35:00</td>\n",
       "      <td>1570.71</td>\n",
       "      <td>1574.890688</td>\n",
       "      <td>1574.48</td>\n",
       "      <td>3.77</td>\n",
       "      <td>4.180688</td>\n",
       "      <td>0.002662</td>\n",
       "    </tr>\n",
       "    <tr>\n",
       "      <th>1</th>\n",
       "      <td>2021-03-03 19:33:00</td>\n",
       "      <td>35.0</td>\n",
       "      <td>2021-03-03 19:35:00</td>\n",
       "      <td>1570.71</td>\n",
       "      <td>1572.839180</td>\n",
       "      <td>1574.48</td>\n",
       "      <td>3.77</td>\n",
       "      <td>2.129180</td>\n",
       "      <td>0.001356</td>\n",
       "    </tr>\n",
       "    <tr>\n",
       "      <th>2</th>\n",
       "      <td>2021-03-03 19:35:00</td>\n",
       "      <td>15.0</td>\n",
       "      <td>2021-03-03 19:37:00</td>\n",
       "      <td>1574.48</td>\n",
       "      <td>1576.943434</td>\n",
       "      <td>1572.93</td>\n",
       "      <td>-1.55</td>\n",
       "      <td>2.463434</td>\n",
       "      <td>0.001565</td>\n",
       "    </tr>\n",
       "    <tr>\n",
       "      <th>3</th>\n",
       "      <td>2021-03-03 19:36:00</td>\n",
       "      <td>0.0</td>\n",
       "      <td>2021-03-03 19:38:00</td>\n",
       "      <td>1571.98</td>\n",
       "      <td>1574.888450</td>\n",
       "      <td>1572.30</td>\n",
       "      <td>0.32</td>\n",
       "      <td>2.908450</td>\n",
       "      <td>0.001850</td>\n",
       "    </tr>\n",
       "    <tr>\n",
       "      <th>5</th>\n",
       "      <td>2021-03-03 19:39:00</td>\n",
       "      <td>0.0</td>\n",
       "      <td>2021-03-03 19:41:00</td>\n",
       "      <td>1569.15</td>\n",
       "      <td>1573.588614</td>\n",
       "      <td>1565.59</td>\n",
       "      <td>-3.56</td>\n",
       "      <td>4.438614</td>\n",
       "      <td>0.002829</td>\n",
       "    </tr>\n",
       "  </tbody>\n",
       "</table>\n",
       "</div>"
      ],
      "text/plain": [
       "         close_dt_pst  tsec             next_dt    close        price  \\\n",
       "0 2021-03-03 19:33:00  35.0 2021-03-03 19:35:00  1570.71  1574.890688   \n",
       "1 2021-03-03 19:33:00  35.0 2021-03-03 19:35:00  1570.71  1572.839180   \n",
       "2 2021-03-03 19:35:00  15.0 2021-03-03 19:37:00  1574.48  1576.943434   \n",
       "3 2021-03-03 19:36:00   0.0 2021-03-03 19:38:00  1571.98  1574.888450   \n",
       "5 2021-03-03 19:39:00   0.0 2021-03-03 19:41:00  1569.15  1573.588614   \n",
       "\n",
       "   close_next  price_chg  price_diff  pct_diff  \n",
       "0     1574.48       3.77    4.180688  0.002662  \n",
       "1     1574.48       3.77    2.129180  0.001356  \n",
       "2     1572.93      -1.55    2.463434  0.001565  \n",
       "3     1572.30       0.32    2.908450  0.001850  \n",
       "5     1565.59      -3.56    4.438614  0.002829  "
      ]
     },
     "execution_count": 67,
     "metadata": {},
     "output_type": "execute_result"
    }
   ],
   "source": [
    "df.head()"
   ]
  },
  {
   "cell_type": "code",
   "execution_count": 80,
   "metadata": {},
   "outputs": [],
   "source": [
    "pct_buy = -0.005231\n",
    "pct_flat = -0.002140\n",
    "pct_sell = 0.000091\n",
    "df_trades = pd.DataFrame(columns=['pos','open_time','close_time','open_price','close_price',\n",
    "                                  'price_max','price_min','type'])\n",
    "k = 0\n",
    "df_trades.loc[k,'pos'] = 0\n",
    "df_trades.loc[k,'price_min'] = df.loc[0,'price']\n",
    "df_trades.loc[k,'price_min'] = df.loc[0,'price']\n",
    "\n",
    "# column = np_df[:,0])\n",
    "np_df = df[['tsec', 'price', 'pct_diff']].to_numpy()\n",
    "close_dts = df['close_dt_pst'].to_numpy()"
   ]
  },
  {
   "cell_type": "code",
   "execution_count": 86,
   "metadata": {},
   "outputs": [
    {
     "data": {
      "text/plain": [
       "numpy.datetime64('2021-03-03T19:33:35.000000000')"
      ]
     },
     "execution_count": 86,
     "metadata": {},
     "output_type": "execute_result"
    }
   ],
   "source": [
    "close_dts[0] + 35*1000000000"
   ]
  },
  {
   "cell_type": "code",
   "execution_count": 7,
   "metadata": {},
   "outputs": [
    {
     "name": "stdout",
     "output_type": "stream",
     "text": [
      "Index(['close_dt_pst', 'tsec', 'next_dt', 'close', 'price', 'close_next',\n",
      "       'price_chg', 'price_diff', 'pct_diff'],\n",
      "      dtype='object')\n"
     ]
    },
    {
     "data": {
      "text/html": [
       "<div>\n",
       "<style scoped>\n",
       "    .dataframe tbody tr th:only-of-type {\n",
       "        vertical-align: middle;\n",
       "    }\n",
       "\n",
       "    .dataframe tbody tr th {\n",
       "        vertical-align: top;\n",
       "    }\n",
       "\n",
       "    .dataframe thead th {\n",
       "        text-align: right;\n",
       "    }\n",
       "</style>\n",
       "<table border=\"1\" class=\"dataframe\">\n",
       "  <thead>\n",
       "    <tr style=\"text-align: right;\">\n",
       "      <th></th>\n",
       "      <th>pos</th>\n",
       "      <th>open_time</th>\n",
       "      <th>close_time</th>\n",
       "      <th>open_price</th>\n",
       "      <th>close_price</th>\n",
       "      <th>price_max</th>\n",
       "      <th>price_min</th>\n",
       "      <th>type</th>\n",
       "    </tr>\n",
       "  </thead>\n",
       "  <tbody>\n",
       "    <tr>\n",
       "      <th>0</th>\n",
       "      <td>0</td>\n",
       "      <td>NaN</td>\n",
       "      <td>NaN</td>\n",
       "      <td>NaN</td>\n",
       "      <td>NaN</td>\n",
       "      <td>NaN</td>\n",
       "      <td>1574.89</td>\n",
       "      <td>NaN</td>\n",
       "    </tr>\n",
       "  </tbody>\n",
       "</table>\n",
       "</div>"
      ],
      "text/plain": [
       "  pos open_time close_time open_price close_price price_max price_min type\n",
       "0   0       NaN        NaN        NaN         NaN       NaN   1574.89  NaN"
      ]
     },
     "execution_count": 7,
     "metadata": {},
     "output_type": "execute_result"
    }
   ],
   "source": [
    "print(df.columns)\n",
    "df_trades"
   ]
  },
  {
   "cell_type": "code",
   "execution_count": 115,
   "metadata": {},
   "outputs": [],
   "source": [
    "@jit(nopython=True)\n",
    "def run_bt(np_df, close_dts, pct_buy, pct_flat, pct_sell, num_reps, last_trade):\n",
    "\n",
    "    x = 23.\n",
    "    y = 22.\n",
    "    \n",
    "    output = np.empty((num_reps, 9), np.float64)\n",
    "    output[:] = np.nan\n",
    "    output[0, 0] = 0\n",
    "    trade_types = np.empty(num_reps)\n",
    "    \n",
    "    for i in range(num_reps):\n",
    "        trade_type=None\n",
    "        row = np_df[i, :]\n",
    "        close_dt = close_dts[i]\n",
    "        pct_diff = row[-1]\n",
    "        if pct_diff < pct_buy:\n",
    "            if output[last_trade][0] == 0:\n",
    "                trade_type = 'open_long'\n",
    "            elif output[last_trade][0] == -1:\n",
    "                trade_type = 'flip_long'\n",
    "        elif pct_diff > pct_sell:\n",
    "            if output[last_trade][0] == 0:\n",
    "                trade_type = 'open_short'\n",
    "            elif output[last_trade][0] == 1:\n",
    "                trade_type = 'flip_short'\n",
    "\n",
    "        elif output[last_trade][0] == 1 and pct_diff > pct_flat:\n",
    "            trade_type = 'close'\n",
    "        elif output[last_trade][0] == -1 and pct_diff < pct_flat:\n",
    "            trade_type = 'close'\n",
    "        output[last_trade][-3] = max(row[1],output[last_trade][-3])\n",
    "        output[last_trade][-2] = min(row[1],output[last_trade][-2])\n",
    "\n",
    "        if trade_type is not None:\n",
    "            if trade_type in ['open_long','open_short']:\n",
    "                last_trade += 1\n",
    "                if trade_type == 'open_long':\n",
    "                    output[0, last_trade] = 1\n",
    "                else:\n",
    "                    output[0, last_trade] = -1\n",
    "                \n",
    "                output[1, last_trade] = row[0]\n",
    "                output[2, last_trade] = np.nan\n",
    "                output[3, last_trade] = row[1]\n",
    "                output[4, last_trade] = row[1]\n",
    "                output[5, last_trade] = row[1]\n",
    "                output[6, last_trade] = row[1]\n",
    "                output[7, last_trade] = pct_diff\n",
    "                output[8, last_trade] = np.nan\n",
    "#                 trade_types[last_trade] = trade_type\n",
    "        else:\n",
    "            #first close and then open a new pos if we are flipping\n",
    "            output[0, last_trade] = 0\n",
    "            output[4, last_trade] = row[1]\n",
    "            output[8, last_trade] = pct_diff\n",
    "            output[2, last_trade] = row[0]\n",
    "            if trade_type in ['flip_long','flip_short']:\n",
    "                last_trade += 1\n",
    "                if trade_type == 'flip_long':\n",
    "                    output[0, last_trade] = 1\n",
    "                else:\n",
    "                    output[0, last_trade] = -1\n",
    "                output[1, last_trade] = row[0]\n",
    "                output[2, last_trade] = np.nan\n",
    "                output[3, last_trade] = row[1]\n",
    "                output[4, last_trade] = row[1]\n",
    "                output[5, last_trade] = row[1]\n",
    "                output[6, last_trade] = row[1]\n",
    "                output[7, last_trade] = pct_diff\n",
    "                output[8, last_trade] = np.nan\n",
    "                #                 if trade_type == 'flip_long':\n",
    "#                     trade_types[last_trade] = 'open_long'\n",
    "#                 else:\n",
    "#                     trade_types[last_trade] = 'open_short'\n",
    "                \n",
    "    return output"
   ]
  },
  {
   "cell_type": "code",
   "execution_count": 117,
   "metadata": {
    "scrolled": true
   },
   "outputs": [
    {
     "data": {
      "text/plain": [
       "array([[   0.        ,           nan,           nan, ..., 4350.06816674,\n",
       "         877.95330861,           nan],\n",
       "       [          nan,           nan,           nan, ...,           nan,\n",
       "                  nan,           nan],\n",
       "       [  15.        ,           nan,           nan, ...,           nan,\n",
       "                  nan,           nan],\n",
       "       ...,\n",
       "       [          nan,           nan,           nan, ...,           nan,\n",
       "                  nan,           nan],\n",
       "       [          nan,           nan,           nan, ...,           nan,\n",
       "                  nan,           nan],\n",
       "       [          nan,           nan,           nan, ...,           nan,\n",
       "                  nan,           nan]])"
      ]
     },
     "execution_count": 117,
     "metadata": {},
     "output_type": "execute_result"
    }
   ],
   "source": [
    "rez = run_bt(np_df, close_dts, pct_buy, pct_flat, pct_sell, len(np_df), 0)\n",
    "rez"
   ]
  },
  {
   "cell_type": "code",
   "execution_count": 114,
   "metadata": {},
   "outputs": [
    {
     "data": {
      "text/plain": [
       "array([[ 0.00000000e+00,             nan,  1.50000000e+01, ...,\n",
       "         4.35006817e+03,  8.77953309e+02, -1.75842587e-03],\n",
       "       [            nan,             nan,             nan, ...,\n",
       "                    nan,             nan,             nan],\n",
       "       [            nan,             nan,             nan, ...,\n",
       "                    nan,             nan,             nan],\n",
       "       ...,\n",
       "       [            nan,             nan,             nan, ...,\n",
       "                    nan,             nan,             nan],\n",
       "       [            nan,             nan,             nan, ...,\n",
       "                    nan,             nan,             nan],\n",
       "       [            nan,             nan,             nan, ...,\n",
       "                    nan,             nan,             nan]])"
      ]
     },
     "execution_count": 114,
     "metadata": {},
     "output_type": "execute_result"
    }
   ],
   "source": []
  },
  {
   "cell_type": "code",
   "execution_count": null,
   "metadata": {},
   "outputs": [],
   "source": [
    "df_trades['pnl'] = 0\n",
    "df_trades['edge'] = np.abs(df_trades['open_price'] - df_trades['open_price']/(1+df_trades['open_pct_diff']))\n",
    "df_trades.loc[df_trades['type']=='open_short','pnl'] = df_trades['open_price'] - df_trades['close_price']\n",
    "df_trades.loc[df_trades['type']=='open_long','pnl'] = -(df_trades['open_price'] - df_trades['close_price'])\n",
    "df_trades.mean()"
   ]
  },
  {
   "cell_type": "code",
   "execution_count": null,
   "metadata": {},
   "outputs": [],
   "source": [
    "df_trades.sort_values(by='pnl')\n",
    "df_trades"
   ]
  },
  {
   "cell_type": "code",
   "execution_count": null,
   "metadata": {},
   "outputs": [],
   "source": [
    "df"
   ]
  }
 ],
 "metadata": {
  "kernelspec": {
   "display_name": "Python 3",
   "language": "python",
   "name": "python3"
  },
  "language_info": {
   "codemirror_mode": {
    "name": "ipython",
    "version": 3
   },
   "file_extension": ".py",
   "mimetype": "text/x-python",
   "name": "python",
   "nbconvert_exporter": "python",
   "pygments_lexer": "ipython3",
   "version": "3.8.3"
  }
 },
 "nbformat": 4,
 "nbformat_minor": 4
}
